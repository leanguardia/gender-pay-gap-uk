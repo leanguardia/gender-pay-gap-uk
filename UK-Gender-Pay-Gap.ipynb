{
 "cells": [
  {
   "cell_type": "markdown",
   "metadata": {},
   "source": [
    "## Gender Pay Gap in the UK\n",
    "\n",
    "### Business Understanding\n",
    "\n",
    "In the UK, employers with 250 or more employees are required to calculate a series of metrics about their gender pay gap and publish them in a yearly report.\n",
    "\n",
    "This [data](https://gender-pay-gap.service.gov.uk/) is publicly available. In this notebook the reports from 2018/19 will be analyzed since the last complete dataset available.\n",
    "\n",
    "**Investigation \n",
    "Questions:**\n",
    "1. How balanced is payment amounts by gender?\n",
    "2. Which are economic sectors with most and less gender pay gap?\n",
    "3. Which employer features explain the gender pay gap?\n",
    "4. Something related with Mean and Median.\n",
    "4. Something related with Representation."
   ]
  },
  {
   "cell_type": "markdown",
   "metadata": {},
   "source": [
    "### Data Understanding\n",
    "\n",
    "Companies must report the following gender pay gap figures, calculation details can be found [here](https://www.gov.uk/guidance/gender-pay-gap-reporting-make-your-calculations).\n",
    "\n",
    "\n",
    "| Figure                                                    | Columns                                                                                  |\n",
    "|:-----------------------------------------------------------|:------------------------------------------------------------------------------------------|\n",
    "| Mean gender pay gap in hourly pay                         | `DiffMeanHourlyPercent`                                                                    |\n",
    "| Median gender pay gap in hourly pay                       | `DiffMedianHourlyPercent`                                                                  |\n",
    "| Mean bonus gender pay gap                                 | `DiffMeanBonusPercent`                                                                     |\n",
    "| Median bonus gender pay gap                               | `DiffMedianBonusPercent`                                                                   |\n",
    "| Proportion of males and females receiving a bonus payment |  `(M/F)BonusPercent`                                                                |\n",
    "| Proportion of males and females in each pay quartile      | `(M/F)LowQuartile, (M/F)LowerMiddleQuartile, (M/F)UpperMiddleQuartile, (M/FUpperQuartile)` |\n"
   ]
  },
  {
   "cell_type": "code",
   "execution_count": 1,
   "metadata": {},
   "outputs": [],
   "source": [
    "import numpy as np\n",
    "import pandas as pd\n",
    "import matplotlib.pyplot as plt\n",
    "%matplotlib inline\n",
    "# plt.rcParams[\"font.family\"] = \"sans-serif\"\n",
    "plt.rcParams[\"font.family\"] = \"serif\""
   ]
  },
  {
   "cell_type": "code",
   "execution_count": 2,
   "metadata": {
    "scrolled": true
   },
   "outputs": [
    {
     "name": "stdout",
     "output_type": "stream",
     "text": [
      "10828 x 25\n"
     ]
    },
    {
     "data": {
      "text/plain": [
       "Index(['EmployerName', 'Address', 'CompanyNumber', 'SicCodes',\n",
       "       'DiffMeanHourlyPercent', 'DiffMedianHourlyPercent',\n",
       "       'DiffMeanBonusPercent', 'DiffMedianBonusPercent', 'MaleBonusPercent',\n",
       "       'FemaleBonusPercent', 'MaleLowerQuartile', 'FemaleLowerQuartile',\n",
       "       'MaleLowerMiddleQuartile', 'FemaleLowerMiddleQuartile',\n",
       "       'MaleUpperMiddleQuartile', 'FemaleUpperMiddleQuartile',\n",
       "       'MaleTopQuartile', 'FemaleTopQuartile', 'CompanyLinkToGPGInfo',\n",
       "       'ResponsiblePerson', 'EmployerSize', 'CurrentName',\n",
       "       'SubmittedAfterTheDeadline', 'DueDate', 'DateSubmitted'],\n",
       "      dtype='object')"
      ]
     },
     "execution_count": 2,
     "metadata": {},
     "output_type": "execute_result"
    }
   ],
   "source": [
    "raw = pd.read_csv(\"data/UK-Gender-Pay-Gap-Data-2018-2019.csv\")\n",
    "rows, cols = raw.shape\n",
    "print(rows, \"x\", cols)\n",
    "raw.columns"
   ]
  },
  {
   "cell_type": "markdown",
   "metadata": {},
   "source": [
    "Apart from gender pay gap figures, the dataset includes company information such as name, size (`EmployerSize`), the industry sectors they belong to (`SicCodes`) and a URL to their writtern report (`CompanyLinkToGPGInfo`). Submission metadata is included too."
   ]
  },
  {
   "cell_type": "code",
   "execution_count": 3,
   "metadata": {},
   "outputs": [
    {
     "data": {
      "text/html": [
       "<div>\n",
       "<style scoped>\n",
       "    .dataframe tbody tr th:only-of-type {\n",
       "        vertical-align: middle;\n",
       "    }\n",
       "\n",
       "    .dataframe tbody tr th {\n",
       "        vertical-align: top;\n",
       "    }\n",
       "\n",
       "    .dataframe thead th {\n",
       "        text-align: right;\n",
       "    }\n",
       "</style>\n",
       "<table border=\"1\" class=\"dataframe\">\n",
       "  <thead>\n",
       "    <tr style=\"text-align: right;\">\n",
       "      <th></th>\n",
       "      <th>EmployerName</th>\n",
       "      <th>Address</th>\n",
       "      <th>CompanyNumber</th>\n",
       "      <th>SicCodes</th>\n",
       "      <th>CompanyLinkToGPGInfo</th>\n",
       "      <th>ResponsiblePerson</th>\n",
       "      <th>EmployerSize</th>\n",
       "      <th>CurrentName</th>\n",
       "      <th>SubmittedAfterTheDeadline</th>\n",
       "      <th>DueDate</th>\n",
       "      <th>DateSubmitted</th>\n",
       "    </tr>\n",
       "  </thead>\n",
       "  <tbody>\n",
       "    <tr>\n",
       "      <th>count</th>\n",
       "      <td>10828</td>\n",
       "      <td>10828</td>\n",
       "      <td>9486</td>\n",
       "      <td>10328</td>\n",
       "      <td>7433</td>\n",
       "      <td>9136</td>\n",
       "      <td>10828</td>\n",
       "      <td>10828</td>\n",
       "      <td>10828</td>\n",
       "      <td>10828</td>\n",
       "      <td>10828</td>\n",
       "    </tr>\n",
       "    <tr>\n",
       "      <th>unique</th>\n",
       "      <td>10828</td>\n",
       "      <td>9564</td>\n",
       "      <td>9486</td>\n",
       "      <td>2004</td>\n",
       "      <td>6258</td>\n",
       "      <td>7515</td>\n",
       "      <td>7</td>\n",
       "      <td>10827</td>\n",
       "      <td>2</td>\n",
       "      <td>2</td>\n",
       "      <td>10706</td>\n",
       "    </tr>\n",
       "    <tr>\n",
       "      <th>top</th>\n",
       "      <td>Sparsholt College, Hampshire</td>\n",
       "      <td>30 Berners Street, London, England, W1T 3LR</td>\n",
       "      <td>06495805</td>\n",
       "      <td>82990</td>\n",
       "      <td>https://www.capita.com/media/3760/gender-pay-g...</td>\n",
       "      <td>Will Serle (Chief People Officer)</td>\n",
       "      <td>250 to 499</td>\n",
       "      <td>CHOICE SUPPORT</td>\n",
       "      <td>False</td>\n",
       "      <td>05/04/2019 00:00:00</td>\n",
       "      <td>30/03/2019 23:59:59</td>\n",
       "    </tr>\n",
       "    <tr>\n",
       "      <th>freq</th>\n",
       "      <td>1</td>\n",
       "      <td>23</td>\n",
       "      <td>1</td>\n",
       "      <td>450</td>\n",
       "      <td>30</td>\n",
       "      <td>30</td>\n",
       "      <td>4896</td>\n",
       "      <td>2</td>\n",
       "      <td>10320</td>\n",
       "      <td>9058</td>\n",
       "      <td>8</td>\n",
       "    </tr>\n",
       "  </tbody>\n",
       "</table>\n",
       "</div>"
      ],
      "text/plain": [
       "                        EmployerName  \\\n",
       "count                          10828   \n",
       "unique                         10828   \n",
       "top     Sparsholt College, Hampshire   \n",
       "freq                               1   \n",
       "\n",
       "                                            Address CompanyNumber SicCodes  \\\n",
       "count                                         10828          9486    10328   \n",
       "unique                                         9564          9486     2004   \n",
       "top     30 Berners Street, London, England, W1T 3LR      06495805    82990   \n",
       "freq                                             23             1      450   \n",
       "\n",
       "                                     CompanyLinkToGPGInfo  \\\n",
       "count                                                7433   \n",
       "unique                                               6258   \n",
       "top     https://www.capita.com/media/3760/gender-pay-g...   \n",
       "freq                                                   30   \n",
       "\n",
       "                        ResponsiblePerson EmployerSize     CurrentName  \\\n",
       "count                                9136        10828           10828   \n",
       "unique                               7515            7           10827   \n",
       "top     Will Serle (Chief People Officer)   250 to 499  CHOICE SUPPORT   \n",
       "freq                                   30         4896               2   \n",
       "\n",
       "       SubmittedAfterTheDeadline              DueDate        DateSubmitted  \n",
       "count                      10828                10828                10828  \n",
       "unique                         2                    2                10706  \n",
       "top                        False  05/04/2019 00:00:00  30/03/2019 23:59:59  \n",
       "freq                       10320                 9058                    8  "
      ]
     },
     "execution_count": 3,
     "metadata": {},
     "output_type": "execute_result"
    }
   ],
   "source": [
    "columns = raw.columns\n",
    "non_numeric_cols = ['EmployerName', 'Address', 'CompanyNumber', 'SicCodes',\n",
    "                    'CompanyLinkToGPGInfo', 'ResponsiblePerson', 'EmployerSize',\n",
    "                    'CurrentName', 'SubmittedAfterTheDeadline', 'DueDate', 'DateSubmitted']\n",
    "raw[non_numeric_cols].describe()"
   ]
  },
  {
   "cell_type": "code",
   "execution_count": 4,
   "metadata": {},
   "outputs": [
    {
     "data": {
      "text/html": [
       "<div>\n",
       "<style scoped>\n",
       "    .dataframe tbody tr th:only-of-type {\n",
       "        vertical-align: middle;\n",
       "    }\n",
       "\n",
       "    .dataframe tbody tr th {\n",
       "        vertical-align: top;\n",
       "    }\n",
       "\n",
       "    .dataframe thead th {\n",
       "        text-align: right;\n",
       "    }\n",
       "</style>\n",
       "<table border=\"1\" class=\"dataframe\">\n",
       "  <thead>\n",
       "    <tr style=\"text-align: right;\">\n",
       "      <th></th>\n",
       "      <th>DiffMeanHourlyPercent</th>\n",
       "      <th>DiffMedianHourlyPercent</th>\n",
       "      <th>DiffMeanBonusPercent</th>\n",
       "      <th>DiffMedianBonusPercent</th>\n",
       "      <th>MaleBonusPercent</th>\n",
       "      <th>FemaleBonusPercent</th>\n",
       "      <th>MaleLowerQuartile</th>\n",
       "      <th>FemaleLowerQuartile</th>\n",
       "      <th>MaleLowerMiddleQuartile</th>\n",
       "      <th>FemaleLowerMiddleQuartile</th>\n",
       "      <th>MaleUpperMiddleQuartile</th>\n",
       "      <th>FemaleUpperMiddleQuartile</th>\n",
       "      <th>MaleTopQuartile</th>\n",
       "      <th>FemaleTopQuartile</th>\n",
       "    </tr>\n",
       "  </thead>\n",
       "  <tbody>\n",
       "    <tr>\n",
       "      <th>count</th>\n",
       "      <td>10828.000000</td>\n",
       "      <td>10828.000000</td>\n",
       "      <td>9072.000000</td>\n",
       "      <td>9072.000000</td>\n",
       "      <td>10828.000000</td>\n",
       "      <td>10828.000000</td>\n",
       "      <td>10828.000000</td>\n",
       "      <td>10828.000000</td>\n",
       "      <td>10828.000000</td>\n",
       "      <td>10828.000000</td>\n",
       "      <td>10828.000000</td>\n",
       "      <td>10828.000000</td>\n",
       "      <td>10828.000000</td>\n",
       "      <td>10828.000000</td>\n",
       "    </tr>\n",
       "    <tr>\n",
       "      <th>mean</th>\n",
       "      <td>14.195447</td>\n",
       "      <td>11.897848</td>\n",
       "      <td>18.405037</td>\n",
       "      <td>-1.038779</td>\n",
       "      <td>35.707453</td>\n",
       "      <td>34.380181</td>\n",
       "      <td>46.092372</td>\n",
       "      <td>53.907628</td>\n",
       "      <td>50.158146</td>\n",
       "      <td>49.841854</td>\n",
       "      <td>54.376090</td>\n",
       "      <td>45.623910</td>\n",
       "      <td>60.241365</td>\n",
       "      <td>39.758635</td>\n",
       "    </tr>\n",
       "    <tr>\n",
       "      <th>std</th>\n",
       "      <td>14.243800</td>\n",
       "      <td>15.515081</td>\n",
       "      <td>218.986173</td>\n",
       "      <td>295.327384</td>\n",
       "      <td>36.675303</td>\n",
       "      <td>36.378251</td>\n",
       "      <td>24.118756</td>\n",
       "      <td>24.118756</td>\n",
       "      <td>26.191420</td>\n",
       "      <td>26.191420</td>\n",
       "      <td>26.328965</td>\n",
       "      <td>26.328965</td>\n",
       "      <td>24.496928</td>\n",
       "      <td>24.496928</td>\n",
       "    </tr>\n",
       "    <tr>\n",
       "      <th>min</th>\n",
       "      <td>-98.700000</td>\n",
       "      <td>-92.300000</td>\n",
       "      <td>-13934.000000</td>\n",
       "      <td>-14490.800000</td>\n",
       "      <td>0.000000</td>\n",
       "      <td>0.000000</td>\n",
       "      <td>0.000000</td>\n",
       "      <td>0.000000</td>\n",
       "      <td>0.000000</td>\n",
       "      <td>0.000000</td>\n",
       "      <td>0.000000</td>\n",
       "      <td>0.000000</td>\n",
       "      <td>0.000000</td>\n",
       "      <td>0.000000</td>\n",
       "    </tr>\n",
       "    <tr>\n",
       "      <th>25%</th>\n",
       "      <td>4.900000</td>\n",
       "      <td>0.900000</td>\n",
       "      <td>0.000000</td>\n",
       "      <td>0.000000</td>\n",
       "      <td>0.700000</td>\n",
       "      <td>0.300000</td>\n",
       "      <td>27.000000</td>\n",
       "      <td>35.500000</td>\n",
       "      <td>29.000000</td>\n",
       "      <td>28.000000</td>\n",
       "      <td>33.000000</td>\n",
       "      <td>22.000000</td>\n",
       "      <td>41.000000</td>\n",
       "      <td>18.000000</td>\n",
       "    </tr>\n",
       "    <tr>\n",
       "      <th>50%</th>\n",
       "      <td>13.100000</td>\n",
       "      <td>9.500000</td>\n",
       "      <td>32.100000</td>\n",
       "      <td>15.550000</td>\n",
       "      <td>19.200000</td>\n",
       "      <td>17.150000</td>\n",
       "      <td>44.600000</td>\n",
       "      <td>55.400000</td>\n",
       "      <td>48.000000</td>\n",
       "      <td>52.000000</td>\n",
       "      <td>53.000000</td>\n",
       "      <td>47.000000</td>\n",
       "      <td>62.000000</td>\n",
       "      <td>38.000000</td>\n",
       "    </tr>\n",
       "    <tr>\n",
       "      <th>75%</th>\n",
       "      <td>22.400000</td>\n",
       "      <td>21.000000</td>\n",
       "      <td>56.600000</td>\n",
       "      <td>43.000000</td>\n",
       "      <td>75.200000</td>\n",
       "      <td>72.000000</td>\n",
       "      <td>64.500000</td>\n",
       "      <td>73.000000</td>\n",
       "      <td>72.000000</td>\n",
       "      <td>71.000000</td>\n",
       "      <td>78.000000</td>\n",
       "      <td>67.000000</td>\n",
       "      <td>82.000000</td>\n",
       "      <td>59.000000</td>\n",
       "    </tr>\n",
       "    <tr>\n",
       "      <th>max</th>\n",
       "      <td>100.000000</td>\n",
       "      <td>100.000000</td>\n",
       "      <td>134.200000</td>\n",
       "      <td>4000.000000</td>\n",
       "      <td>100.000000</td>\n",
       "      <td>100.000000</td>\n",
       "      <td>100.000000</td>\n",
       "      <td>100.000000</td>\n",
       "      <td>100.000000</td>\n",
       "      <td>100.000000</td>\n",
       "      <td>100.000000</td>\n",
       "      <td>100.000000</td>\n",
       "      <td>100.000000</td>\n",
       "      <td>100.000000</td>\n",
       "    </tr>\n",
       "  </tbody>\n",
       "</table>\n",
       "</div>"
      ],
      "text/plain": [
       "       DiffMeanHourlyPercent  DiffMedianHourlyPercent  DiffMeanBonusPercent  \\\n",
       "count           10828.000000             10828.000000           9072.000000   \n",
       "mean               14.195447                11.897848             18.405037   \n",
       "std                14.243800                15.515081            218.986173   \n",
       "min               -98.700000               -92.300000         -13934.000000   \n",
       "25%                 4.900000                 0.900000              0.000000   \n",
       "50%                13.100000                 9.500000             32.100000   \n",
       "75%                22.400000                21.000000             56.600000   \n",
       "max               100.000000               100.000000            134.200000   \n",
       "\n",
       "       DiffMedianBonusPercent  MaleBonusPercent  FemaleBonusPercent  \\\n",
       "count             9072.000000      10828.000000        10828.000000   \n",
       "mean                -1.038779         35.707453           34.380181   \n",
       "std                295.327384         36.675303           36.378251   \n",
       "min             -14490.800000          0.000000            0.000000   \n",
       "25%                  0.000000          0.700000            0.300000   \n",
       "50%                 15.550000         19.200000           17.150000   \n",
       "75%                 43.000000         75.200000           72.000000   \n",
       "max               4000.000000        100.000000          100.000000   \n",
       "\n",
       "       MaleLowerQuartile  FemaleLowerQuartile  MaleLowerMiddleQuartile  \\\n",
       "count       10828.000000         10828.000000             10828.000000   \n",
       "mean           46.092372            53.907628                50.158146   \n",
       "std            24.118756            24.118756                26.191420   \n",
       "min             0.000000             0.000000                 0.000000   \n",
       "25%            27.000000            35.500000                29.000000   \n",
       "50%            44.600000            55.400000                48.000000   \n",
       "75%            64.500000            73.000000                72.000000   \n",
       "max           100.000000           100.000000               100.000000   \n",
       "\n",
       "       FemaleLowerMiddleQuartile  MaleUpperMiddleQuartile  \\\n",
       "count               10828.000000             10828.000000   \n",
       "mean                   49.841854                54.376090   \n",
       "std                    26.191420                26.328965   \n",
       "min                     0.000000                 0.000000   \n",
       "25%                    28.000000                33.000000   \n",
       "50%                    52.000000                53.000000   \n",
       "75%                    71.000000                78.000000   \n",
       "max                   100.000000               100.000000   \n",
       "\n",
       "       FemaleUpperMiddleQuartile  MaleTopQuartile  FemaleTopQuartile  \n",
       "count               10828.000000     10828.000000       10828.000000  \n",
       "mean                   45.623910        60.241365          39.758635  \n",
       "std                    26.328965        24.496928          24.496928  \n",
       "min                     0.000000         0.000000           0.000000  \n",
       "25%                    22.000000        41.000000          18.000000  \n",
       "50%                    47.000000        62.000000          38.000000  \n",
       "75%                    67.000000        82.000000          59.000000  \n",
       "max                   100.000000       100.000000         100.000000  "
      ]
     },
     "execution_count": 4,
     "metadata": {},
     "output_type": "execute_result"
    }
   ],
   "source": [
    "numeric_cols = [col for col in columns if col not in non_numeric_cols]\n",
    "raw[numeric_cols].describe()"
   ]
  },
  {
   "cell_type": "markdown",
   "metadata": {},
   "source": [
    "Bonus data have minimum and maximum outliers. This will not be fixed since bonuses are not in the scope of the business questions."
   ]
  },
  {
   "cell_type": "code",
   "execution_count": 5,
   "metadata": {},
   "outputs": [
    {
     "name": "stdout",
     "output_type": "stream",
     "text": [
      "<class 'pandas.core.frame.DataFrame'>\n",
      "RangeIndex: 10828 entries, 0 to 10827\n",
      "Data columns (total 25 columns):\n",
      " #   Column                     Non-Null Count  Dtype  \n",
      "---  ------                     --------------  -----  \n",
      " 0   EmployerName               10828 non-null  object \n",
      " 1   Address                    10828 non-null  object \n",
      " 2   CompanyNumber              9486 non-null   object \n",
      " 3   SicCodes                   10328 non-null  object \n",
      " 4   DiffMeanHourlyPercent      10828 non-null  float64\n",
      " 5   DiffMedianHourlyPercent    10828 non-null  float64\n",
      " 6   DiffMeanBonusPercent       9072 non-null   float64\n",
      " 7   DiffMedianBonusPercent     9072 non-null   float64\n",
      " 8   MaleBonusPercent           10828 non-null  float64\n",
      " 9   FemaleBonusPercent         10828 non-null  float64\n",
      " 10  MaleLowerQuartile          10828 non-null  float64\n",
      " 11  FemaleLowerQuartile        10828 non-null  float64\n",
      " 12  MaleLowerMiddleQuartile    10828 non-null  float64\n",
      " 13  FemaleLowerMiddleQuartile  10828 non-null  float64\n",
      " 14  MaleUpperMiddleQuartile    10828 non-null  float64\n",
      " 15  FemaleUpperMiddleQuartile  10828 non-null  float64\n",
      " 16  MaleTopQuartile            10828 non-null  float64\n",
      " 17  FemaleTopQuartile          10828 non-null  float64\n",
      " 18  CompanyLinkToGPGInfo       7433 non-null   object \n",
      " 19  ResponsiblePerson          9136 non-null   object \n",
      " 20  EmployerSize               10828 non-null  object \n",
      " 21  CurrentName                10828 non-null  object \n",
      " 22  SubmittedAfterTheDeadline  10828 non-null  bool   \n",
      " 23  DueDate                    10828 non-null  object \n",
      " 24  DateSubmitted              10828 non-null  object \n",
      "dtypes: bool(1), float64(14), object(10)\n",
      "memory usage: 2.0+ MB\n"
     ]
    }
   ],
   "source": [
    "raw.info()"
   ]
  },
  {
   "cell_type": "markdown",
   "metadata": {},
   "source": [
    "Crucial colummns do not miss values (employer size, hourly pay gaps and payment quartiles). `SicCodes` has 4.6% values missing (500/10.828), this problem will be address in the data preparation stage."
   ]
  },
  {
   "cell_type": "markdown",
   "metadata": {},
   "source": [
    "### Data Preparation\n",
    "Remove Irrelevant columns"
   ]
  },
  {
   "cell_type": "code",
   "execution_count": 6,
   "metadata": {},
   "outputs": [
    {
     "data": {
      "text/plain": [
       "(10828, 14)"
      ]
     },
     "execution_count": 6,
     "metadata": {},
     "output_type": "execute_result"
    }
   ],
   "source": [
    "df = raw.drop(columns=['Address','CompanyNumber','DiffMeanBonusPercent',\n",
    "                       'DiffMedianBonusPercent', 'MaleBonusPercent','FemaleBonusPercent',\n",
    "                       'CompanyLinkToGPGInfo', 'CurrentName', 'SubmittedAfterTheDeadline',\n",
    "                       'DueDate', 'DateSubmitted'\n",
    "                      ])\n",
    "df.shape"
   ]
  },
  {
   "cell_type": "markdown",
   "metadata": {},
   "source": [
    "`EmployerSize` present ranges of employer sizes."
   ]
  },
  {
   "cell_type": "code",
   "execution_count": 7,
   "metadata": {},
   "outputs": [
    {
     "data": {
      "image/png": "[encoded data removed]",
      "text/plain": [
       "<Figure size 432x288 with 1 Axes>"
      ]
     },
     "metadata": {
      "needs_background": "light"
     },
     "output_type": "display_data"
    }
   ],
   "source": [
    "emp_size_dist = df.EmployerSize.value_counts().sort_values()\n",
    "ax = emp_size_dist.plot.barh(title='EmployerSize distribution')\n",
    "ax = ax.set_xlabel(\"Number of Companies\")"
   ]
  },
  {
   "cell_type": "markdown",
   "metadata": {},
   "source": [
    "`EmployerSize` categorical texts will be replaced with the midpoint of the ranges they represent to have numerical. The categorical nature of this column is not affected."
   ]
  },
  {
   "cell_type": "code",
   "execution_count": 8,
   "metadata": {},
   "outputs": [
    {
     "data": {
      "text/plain": [
       "1           9\n",
       "150       373\n",
       "375      4896\n",
       "750      2663\n",
       "3000     2326\n",
       "12500     500\n",
       "40000      61\n",
       "Name: EmployerSize, dtype: int64"
      ]
     },
     "execution_count": 8,
     "metadata": {},
     "output_type": "execute_result"
    }
   ],
   "source": [
    "to_replace     = ['Not Provided', 'Less than 250',  '250 to 499',  '500 to 999',\n",
    "                  '1000 to 4999', '5000 to 19,999', '20,000 or more']\n",
    "replace_values = [1, 150, 375, 750, 3000, 12500, 40000]\n",
    "df.EmployerSize = df.EmployerSize.replace(to_replace, replace_values).astype(int)\n",
    "df.EmployerSize.value_counts().sort_index()"
   ]
  },
  {
   "cell_type": "markdown",
   "metadata": {},
   "source": [
    "The largest two categories 12.500 and 40.000 draw a big difference with the first categories. Hence, a logarithmic representation is added in order to obtain a linear representation of the sizes."
   ]
  },
  {
   "cell_type": "code",
   "execution_count": 11,
   "metadata": {},
   "outputs": [
    {
     "ename": "NameError",
     "evalue": "name 'd' is not defined",
     "output_type": "error",
     "traceback": [
      "\u001b[0;31m---------------------------------------------------------------------------\u001b[0m",
      "\u001b[0;31mNameError\u001b[0m                                 Traceback (most recent call last)",
      "\u001b[0;32m<ipython-input-11-a16272c191ad>\u001b[0m in \u001b[0;36m<module>\u001b[0;34m\u001b[0m\n\u001b[0;32m----> 1\u001b[0;31m \u001b[0md\u001b[0m\u001b[0;34m[\u001b[0m\u001b[0;34m'EmployerSizeLog'\u001b[0m\u001b[0;34m]\u001b[0m \u001b[0;34m=\u001b[0m \u001b[0mpd\u001b[0m\u001b[0;34m.\u001b[0m\u001b[0mSeries\u001b[0m\u001b[0;34m(\u001b[0m\u001b[0mnp\u001b[0m\u001b[0;34m.\u001b[0m\u001b[0mlog\u001b[0m\u001b[0;34m(\u001b[0m\u001b[0mdf\u001b[0m\u001b[0;34m.\u001b[0m\u001b[0mEmployerSize\u001b[0m\u001b[0;34m)\u001b[0m\u001b[0;34m,\u001b[0m \u001b[0mindex\u001b[0m\u001b[0;34m=\u001b[0m\u001b[0mdf\u001b[0m\u001b[0;34m.\u001b[0m\u001b[0mindex\u001b[0m\u001b[0;34m)\u001b[0m\u001b[0;34m\u001b[0m\u001b[0;34m\u001b[0m\u001b[0m\n\u001b[0m",
      "\u001b[0;31mNameError\u001b[0m: name 'd' is not defined"
     ]
    }
   ],
   "source": [
    "d['EmployerSizeLog'] = pd.Series(np.log(df.EmployerSize), index=df.index)"
   ]
  },
  {
   "cell_type": "code",
   "execution_count": 10,
   "metadata": {},
   "outputs": [
    {
     "data": {
      "text/plain": [
       "[<matplotlib.lines.Line2D at 0x121775510>]"
      ]
     },
     "execution_count": 10,
     "metadata": {},
     "output_type": "execute_result"
    },
    {
     "data": {
      "image/png": "[encoded data removed]",
      "text/plain": [
       "<Figure size 792x288 with 2 Axes>"
      ]
     },
     "metadata": {
      "needs_background": "light"
     },
     "output_type": "display_data"
    }
   ],
   "source": [
    "fig, axs = plt.subplots(1, 2, figsize=(11,4))\n",
    "axs[0].set_title(\"EmployerSize\")\n",
    "axs[0].set_ylabel(\"Regular scale\")\n",
    "axs[0].set_xticks(range(8))\n",
    "axs[0].set_xticklabels(to_replace, rotation=40, ha=\"right\")\n",
    "axs[0].plot(np.sort(df.EmployerSize.unique()), marker=\".\")\n",
    "axs[1].set_title(\"EmployerSizeLog\")\n",
    "axs[1].set_ylabel(\"Logarigthmic scale\")\n",
    "axs[1].set_xticks(range(8))\n",
    "axs[1].set_xticklabels(to_replace, rotation=40, ha=\"right\")\n",
    "axs[1].plot(range(0,7), np.sort(df.EmployerSizeLog.unique()), marker=\".\")"
   ]
  },
  {
   "cell_type": "markdown",
   "metadata": {},
   "source": [
    "### Data Modelling"
   ]
  },
  {
   "cell_type": "markdown",
   "metadata": {},
   "source": [
    "\n",
    "### Results Evaluation"
   ]
  },
  {
   "cell_type": "markdown",
   "metadata": {},
   "source": [
    "### Results Deployment"
   ]
  },
  {
   "cell_type": "code",
   "execution_count": null,
   "metadata": {},
   "outputs": [],
   "source": []
  }
 ],
 "metadata": {
  "kernelspec": {
   "display_name": "Python 3.7.4 64-bit ('base': conda)",
   "language": "python",
   "name": "python37464bitbasecondad572fd0cb7ab471fbfff7fdb64f304d8"
  },
  "language_info": {
   "codemirror_mode": {
    "name": "ipython",
    "version": 3
   },
   "file_extension": ".py",
   "mimetype": "text/x-python",
   "name": "python",
   "nbconvert_exporter": "python",
   "pygments_lexer": "ipython3",
   "version": "3.7.4"
  }
 },
 "nbformat": 4,
 "nbformat_minor": 4
}
